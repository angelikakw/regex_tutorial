{
 "cells": [
  {
   "cell_type": "markdown",
   "id": "856988b1",
   "metadata": {},
   "source": [
    "# Regular Expresions "
   ]
  },
  {
   "cell_type": "markdown",
   "id": "678b0b04",
   "metadata": {},
   "source": [
    "Strona, która umożliwia testowanie napisanego przez nas regexa (ja zawsze z niej korzystam podczas pisania regexów):"
   ]
  },
  {
   "cell_type": "markdown",
   "id": "d5e2c39c",
   "metadata": {},
   "source": [
    "https://regex101.com/"
   ]
  },
  {
   "cell_type": "markdown",
   "id": "e3b6fba9",
   "metadata": {},
   "source": [
    "Fajny samouczek napisany prostym językiem: https://czterytygodnie.pl/regex/wprowadzenie-do-wyrazen-regularnych-regex.html"
   ]
  },
  {
   "cell_type": "code",
   "execution_count": 1,
   "id": "ab59c1dc",
   "metadata": {},
   "outputs": [],
   "source": [
    "# impor biblioteki do regexów \n",
    "import re\n",
    "\n",
    "# import biblioteki pandas\n",
    "import pandas as pd"
   ]
  },
  {
   "cell_type": "markdown",
   "id": "83f3d84d",
   "metadata": {},
   "source": [
    "### Anchors (kotwice)"
   ]
  },
  {
   "cell_type": "markdown",
   "id": "809bead7",
   "metadata": {},
   "source": [
    "> ^ &emsp; początek łańcucha znaków"
   ]
  },
  {
   "cell_type": "markdown",
   "id": "30ff1ba3",
   "metadata": {},
   "source": [
    "> $ &emsp; koniec łańcucha znaków"
   ]
  },
  {
   "cell_type": "code",
   "execution_count": 2,
   "id": "263f012f",
   "metadata": {},
   "outputs": [
    {
     "data": {
      "text/html": [
       "<div>\n",
       "<style scoped>\n",
       "    .dataframe tbody tr th:only-of-type {\n",
       "        vertical-align: middle;\n",
       "    }\n",
       "\n",
       "    .dataframe tbody tr th {\n",
       "        vertical-align: top;\n",
       "    }\n",
       "\n",
       "    .dataframe thead th {\n",
       "        text-align: right;\n",
       "    }\n",
       "</style>\n",
       "<table border=\"1\" class=\"dataframe\">\n",
       "  <thead>\n",
       "    <tr style=\"text-align: right;\">\n",
       "      <th></th>\n",
       "      <th>Przykłady</th>\n",
       "    </tr>\n",
       "  </thead>\n",
       "  <tbody>\n",
       "    <tr>\n",
       "      <th>0</th>\n",
       "      <td>Kod ATC B01 oznacza leki przeciwzakrzepowe</td>\n",
       "    </tr>\n",
       "    <tr>\n",
       "      <th>1</th>\n",
       "      <td>B01 to kod ATC oznaczający leki przeciwzakrzepowe</td>\n",
       "    </tr>\n",
       "    <tr>\n",
       "      <th>2</th>\n",
       "      <td>Kod ATC dla leków przeciwzakrzepowych to B01</td>\n",
       "    </tr>\n",
       "  </tbody>\n",
       "</table>\n",
       "</div>"
      ],
      "text/plain": [
       "                                           Przykłady\n",
       "0         Kod ATC B01 oznacza leki przeciwzakrzepowe\n",
       "1  B01 to kod ATC oznaczający leki przeciwzakrzepowe\n",
       "2       Kod ATC dla leków przeciwzakrzepowych to B01"
      ]
     },
     "execution_count": 2,
     "metadata": {},
     "output_type": "execute_result"
    }
   ],
   "source": [
    "p1 = pd.DataFrame(['Kod ATC B01 oznacza leki przeciwzakrzepowe',\n",
    "                   'B01 to kod ATC oznaczający leki przeciwzakrzepowe', \n",
    "                   'Kod ATC dla leków przeciwzakrzepowych to B01']).rename(columns={0:'Przykłady'})\n",
    "p1"
   ]
  },
  {
   "cell_type": "code",
   "execution_count": 3,
   "id": "1739e686",
   "metadata": {},
   "outputs": [
    {
     "data": {
      "text/html": [
       "<div>\n",
       "<style scoped>\n",
       "    .dataframe tbody tr th:only-of-type {\n",
       "        vertical-align: middle;\n",
       "    }\n",
       "\n",
       "    .dataframe tbody tr th {\n",
       "        vertical-align: top;\n",
       "    }\n",
       "\n",
       "    .dataframe thead th {\n",
       "        text-align: right;\n",
       "    }\n",
       "</style>\n",
       "<table border=\"1\" class=\"dataframe\">\n",
       "  <thead>\n",
       "    <tr style=\"text-align: right;\">\n",
       "      <th></th>\n",
       "      <th>Przykłady</th>\n",
       "    </tr>\n",
       "  </thead>\n",
       "  <tbody>\n",
       "    <tr>\n",
       "      <th>0</th>\n",
       "      <td>[B01]</td>\n",
       "    </tr>\n",
       "    <tr>\n",
       "      <th>1</th>\n",
       "      <td>[B01]</td>\n",
       "    </tr>\n",
       "    <tr>\n",
       "      <th>2</th>\n",
       "      <td>[B01]</td>\n",
       "    </tr>\n",
       "  </tbody>\n",
       "</table>\n",
       "</div>"
      ],
      "text/plain": [
       "  Przykłady\n",
       "0     [B01]\n",
       "1     [B01]\n",
       "2     [B01]"
      ]
     },
     "execution_count": 3,
     "metadata": {},
     "output_type": "execute_result"
    }
   ],
   "source": [
    "regex = 'B01'\n",
    "\n",
    "pd.DataFrame(p1['Przykłady'].str.findall(regex))"
   ]
  },
  {
   "cell_type": "code",
   "execution_count": 4,
   "id": "b8389b50",
   "metadata": {},
   "outputs": [
    {
     "data": {
      "text/html": [
       "<div>\n",
       "<style scoped>\n",
       "    .dataframe tbody tr th:only-of-type {\n",
       "        vertical-align: middle;\n",
       "    }\n",
       "\n",
       "    .dataframe tbody tr th {\n",
       "        vertical-align: top;\n",
       "    }\n",
       "\n",
       "    .dataframe thead th {\n",
       "        text-align: right;\n",
       "    }\n",
       "</style>\n",
       "<table border=\"1\" class=\"dataframe\">\n",
       "  <thead>\n",
       "    <tr style=\"text-align: right;\">\n",
       "      <th></th>\n",
       "      <th>Przykłady</th>\n",
       "    </tr>\n",
       "  </thead>\n",
       "  <tbody>\n",
       "    <tr>\n",
       "      <th>0</th>\n",
       "      <td>[]</td>\n",
       "    </tr>\n",
       "    <tr>\n",
       "      <th>1</th>\n",
       "      <td>[B01]</td>\n",
       "    </tr>\n",
       "    <tr>\n",
       "      <th>2</th>\n",
       "      <td>[]</td>\n",
       "    </tr>\n",
       "  </tbody>\n",
       "</table>\n",
       "</div>"
      ],
      "text/plain": [
       "  Przykłady\n",
       "0        []\n",
       "1     [B01]\n",
       "2        []"
      ]
     },
     "execution_count": 4,
     "metadata": {},
     "output_type": "execute_result"
    }
   ],
   "source": [
    "regex = '^B01'\n",
    "\n",
    "pd.DataFrame(p1['Przykłady'].str.findall(regex))"
   ]
  },
  {
   "cell_type": "code",
   "execution_count": 5,
   "id": "d8a538e3",
   "metadata": {},
   "outputs": [
    {
     "data": {
      "text/html": [
       "<div>\n",
       "<style scoped>\n",
       "    .dataframe tbody tr th:only-of-type {\n",
       "        vertical-align: middle;\n",
       "    }\n",
       "\n",
       "    .dataframe tbody tr th {\n",
       "        vertical-align: top;\n",
       "    }\n",
       "\n",
       "    .dataframe thead th {\n",
       "        text-align: right;\n",
       "    }\n",
       "</style>\n",
       "<table border=\"1\" class=\"dataframe\">\n",
       "  <thead>\n",
       "    <tr style=\"text-align: right;\">\n",
       "      <th></th>\n",
       "      <th>Przykłady</th>\n",
       "    </tr>\n",
       "  </thead>\n",
       "  <tbody>\n",
       "    <tr>\n",
       "      <th>0</th>\n",
       "      <td>[]</td>\n",
       "    </tr>\n",
       "    <tr>\n",
       "      <th>1</th>\n",
       "      <td>[]</td>\n",
       "    </tr>\n",
       "    <tr>\n",
       "      <th>2</th>\n",
       "      <td>[B01]</td>\n",
       "    </tr>\n",
       "  </tbody>\n",
       "</table>\n",
       "</div>"
      ],
      "text/plain": [
       "  Przykłady\n",
       "0        []\n",
       "1        []\n",
       "2     [B01]"
      ]
     },
     "execution_count": 5,
     "metadata": {},
     "output_type": "execute_result"
    }
   ],
   "source": [
    "regex = 'B01$'\n",
    "\n",
    "pd.DataFrame(p1['Przykłady'].str.findall(regex))"
   ]
  },
  {
   "cell_type": "markdown",
   "id": "56bab42c",
   "metadata": {},
   "source": [
    "### Character classes (klasy znaków)"
   ]
  },
  {
   "cell_type": "markdown",
   "id": "519f7038",
   "metadata": {},
   "source": [
    "> [abc] &emsp; pojedynczy znak: a, b lub c"
   ]
  },
  {
   "cell_type": "markdown",
   "id": "3d6634fa",
   "metadata": {},
   "source": [
    "> [a-z] &emsp; każdy znak w zakresie: od a do z"
   ]
  },
  {
   "cell_type": "markdown",
   "id": "1652afbd",
   "metadata": {},
   "source": [
    "> [a-zA-Z] &emsp; pojedynczy znak w zakresie: od a do z lub od A do Z"
   ]
  },
  {
   "cell_type": "code",
   "execution_count": 6,
   "id": "94d1119f",
   "metadata": {},
   "outputs": [
    {
     "data": {
      "text/html": [
       "<div>\n",
       "<style scoped>\n",
       "    .dataframe tbody tr th:only-of-type {\n",
       "        vertical-align: middle;\n",
       "    }\n",
       "\n",
       "    .dataframe tbody tr th {\n",
       "        vertical-align: top;\n",
       "    }\n",
       "\n",
       "    .dataframe thead th {\n",
       "        text-align: right;\n",
       "    }\n",
       "</style>\n",
       "<table border=\"1\" class=\"dataframe\">\n",
       "  <thead>\n",
       "    <tr style=\"text-align: right;\">\n",
       "      <th></th>\n",
       "      <th>Przykłady</th>\n",
       "    </tr>\n",
       "  </thead>\n",
       "  <tbody>\n",
       "    <tr>\n",
       "      <th>0</th>\n",
       "      <td>[A, T]</td>\n",
       "    </tr>\n",
       "    <tr>\n",
       "      <th>1</th>\n",
       "      <td>[A, T]</td>\n",
       "    </tr>\n",
       "    <tr>\n",
       "      <th>2</th>\n",
       "      <td>[A, T]</td>\n",
       "    </tr>\n",
       "  </tbody>\n",
       "</table>\n",
       "</div>"
      ],
      "text/plain": [
       "  Przykłady\n",
       "0    [A, T]\n",
       "1    [A, T]\n",
       "2    [A, T]"
      ]
     },
     "execution_count": 6,
     "metadata": {},
     "output_type": "execute_result"
    }
   ],
   "source": [
    "regex = '[AT]'\n",
    "\n",
    "pd.DataFrame(p1['Przykłady'].str.findall(regex))"
   ]
  },
  {
   "cell_type": "code",
   "execution_count": 7,
   "id": "ef422633",
   "metadata": {},
   "outputs": [
    {
     "data": {
      "text/html": [
       "<div>\n",
       "<style scoped>\n",
       "    .dataframe tbody tr th:only-of-type {\n",
       "        vertical-align: middle;\n",
       "    }\n",
       "\n",
       "    .dataframe tbody tr th {\n",
       "        vertical-align: top;\n",
       "    }\n",
       "\n",
       "    .dataframe thead th {\n",
       "        text-align: right;\n",
       "    }\n",
       "</style>\n",
       "<table border=\"1\" class=\"dataframe\">\n",
       "  <thead>\n",
       "    <tr style=\"text-align: right;\">\n",
       "      <th></th>\n",
       "      <th>Przykłady</th>\n",
       "    </tr>\n",
       "  </thead>\n",
       "  <tbody>\n",
       "    <tr>\n",
       "      <th>0</th>\n",
       "      <td>[K, A, C, B]</td>\n",
       "    </tr>\n",
       "    <tr>\n",
       "      <th>1</th>\n",
       "      <td>[B, A, C]</td>\n",
       "    </tr>\n",
       "    <tr>\n",
       "      <th>2</th>\n",
       "      <td>[K, A, C, B]</td>\n",
       "    </tr>\n",
       "  </tbody>\n",
       "</table>\n",
       "</div>"
      ],
      "text/plain": [
       "      Przykłady\n",
       "0  [K, A, C, B]\n",
       "1     [B, A, C]\n",
       "2  [K, A, C, B]"
      ]
     },
     "execution_count": 7,
     "metadata": {},
     "output_type": "execute_result"
    }
   ],
   "source": [
    "regex = '[A-K]'\n",
    "\n",
    "pd.DataFrame(p1['Przykłady'].str.findall(regex))"
   ]
  },
  {
   "cell_type": "code",
   "execution_count": 8,
   "id": "9eca877d",
   "metadata": {},
   "outputs": [
    {
     "data": {
      "text/html": [
       "<div>\n",
       "<style scoped>\n",
       "    .dataframe tbody tr th:only-of-type {\n",
       "        vertical-align: middle;\n",
       "    }\n",
       "\n",
       "    .dataframe tbody tr th {\n",
       "        vertical-align: top;\n",
       "    }\n",
       "\n",
       "    .dataframe thead th {\n",
       "        text-align: right;\n",
       "    }\n",
       "</style>\n",
       "<table border=\"1\" class=\"dataframe\">\n",
       "  <thead>\n",
       "    <tr style=\"text-align: right;\">\n",
       "      <th></th>\n",
       "      <th>Przykłady</th>\n",
       "    </tr>\n",
       "  </thead>\n",
       "  <tbody>\n",
       "    <tr>\n",
       "      <th>0</th>\n",
       "      <td>[K, o, d, A, T, C, B, o, z, n, a, c, z, a, l, ...</td>\n",
       "    </tr>\n",
       "    <tr>\n",
       "      <th>1</th>\n",
       "      <td>[B, t, o, k, o, d, A, T, C, o, z, n, a, c, z, ...</td>\n",
       "    </tr>\n",
       "    <tr>\n",
       "      <th>2</th>\n",
       "      <td>[K, o, d, A, T, C, d, l, a, l, e, k, w, p, r, ...</td>\n",
       "    </tr>\n",
       "  </tbody>\n",
       "</table>\n",
       "</div>"
      ],
      "text/plain": [
       "                                           Przykłady\n",
       "0  [K, o, d, A, T, C, B, o, z, n, a, c, z, a, l, ...\n",
       "1  [B, t, o, k, o, d, A, T, C, o, z, n, a, c, z, ...\n",
       "2  [K, o, d, A, T, C, d, l, a, l, e, k, w, p, r, ..."
      ]
     },
     "execution_count": 8,
     "metadata": {},
     "output_type": "execute_result"
    }
   ],
   "source": [
    "regex = '[a-zA-Z]'\n",
    "\n",
    "pd.DataFrame(p1['Przykłady'].str.findall(regex))"
   ]
  },
  {
   "cell_type": "markdown",
   "id": "885e272b",
   "metadata": {},
   "source": [
    "> . &emsp; dowolny znak"
   ]
  },
  {
   "cell_type": "markdown",
   "id": "0329bd9a",
   "metadata": {},
   "source": [
    "> \\d &emsp; dowolna cyfra"
   ]
  },
  {
   "cell_type": "markdown",
   "id": "2b486661",
   "metadata": {},
   "source": [
    "> \\w &emsp; dowolna litera, cyfra lub podkreślnik"
   ]
  },
  {
   "cell_type": "markdown",
   "id": "95198aab",
   "metadata": {},
   "source": [
    "> \\s &emsp; dowolny biały znak"
   ]
  },
  {
   "cell_type": "code",
   "execution_count": 9,
   "id": "acf31d03",
   "metadata": {},
   "outputs": [
    {
     "data": {
      "text/html": [
       "<div>\n",
       "<style scoped>\n",
       "    .dataframe tbody tr th:only-of-type {\n",
       "        vertical-align: middle;\n",
       "    }\n",
       "\n",
       "    .dataframe tbody tr th {\n",
       "        vertical-align: top;\n",
       "    }\n",
       "\n",
       "    .dataframe thead th {\n",
       "        text-align: right;\n",
       "    }\n",
       "</style>\n",
       "<table border=\"1\" class=\"dataframe\">\n",
       "  <thead>\n",
       "    <tr style=\"text-align: right;\">\n",
       "      <th></th>\n",
       "      <th>Przykłady</th>\n",
       "    </tr>\n",
       "  </thead>\n",
       "  <tbody>\n",
       "    <tr>\n",
       "      <th>0</th>\n",
       "      <td>2022-03-12</td>\n",
       "    </tr>\n",
       "    <tr>\n",
       "      <th>1</th>\n",
       "      <td>2021.05.29</td>\n",
       "    </tr>\n",
       "    <tr>\n",
       "      <th>2</th>\n",
       "      <td>1 września 2020</td>\n",
       "    </tr>\n",
       "    <tr>\n",
       "      <th>3</th>\n",
       "      <td>2022_04_29</td>\n",
       "    </tr>\n",
       "  </tbody>\n",
       "</table>\n",
       "</div>"
      ],
      "text/plain": [
       "         Przykłady\n",
       "0       2022-03-12\n",
       "1       2021.05.29\n",
       "2  1 września 2020\n",
       "3       2022_04_29"
      ]
     },
     "execution_count": 9,
     "metadata": {},
     "output_type": "execute_result"
    }
   ],
   "source": [
    "p2 = pd.DataFrame(['2022-03-12',\n",
    "                   '2021.05.29',\n",
    "                   '1 września 2020',\n",
    "                   '2022_04_29']).rename(columns={0:'Przykłady'})\n",
    "p2"
   ]
  },
  {
   "cell_type": "code",
   "execution_count": 10,
   "id": "a1dc9568",
   "metadata": {},
   "outputs": [
    {
     "data": {
      "text/html": [
       "<div>\n",
       "<style scoped>\n",
       "    .dataframe tbody tr th:only-of-type {\n",
       "        vertical-align: middle;\n",
       "    }\n",
       "\n",
       "    .dataframe tbody tr th {\n",
       "        vertical-align: top;\n",
       "    }\n",
       "\n",
       "    .dataframe thead th {\n",
       "        text-align: right;\n",
       "    }\n",
       "</style>\n",
       "<table border=\"1\" class=\"dataframe\">\n",
       "  <thead>\n",
       "    <tr style=\"text-align: right;\">\n",
       "      <th></th>\n",
       "      <th>Przykłady</th>\n",
       "    </tr>\n",
       "  </thead>\n",
       "  <tbody>\n",
       "    <tr>\n",
       "      <th>0</th>\n",
       "      <td>[2, 0, 2, 2, -, 0, 3, -, 1, 2]</td>\n",
       "    </tr>\n",
       "    <tr>\n",
       "      <th>1</th>\n",
       "      <td>[2, 0, 2, 1, ., 0, 5, ., 2, 9]</td>\n",
       "    </tr>\n",
       "    <tr>\n",
       "      <th>2</th>\n",
       "      <td>[1,  , w, r, z, e, ś, n, i, a,  , 2, 0, 2, 0]</td>\n",
       "    </tr>\n",
       "    <tr>\n",
       "      <th>3</th>\n",
       "      <td>[2, 0, 2, 2, _, 0, 4, _, 2, 9]</td>\n",
       "    </tr>\n",
       "  </tbody>\n",
       "</table>\n",
       "</div>"
      ],
      "text/plain": [
       "                                       Przykłady\n",
       "0                 [2, 0, 2, 2, -, 0, 3, -, 1, 2]\n",
       "1                 [2, 0, 2, 1, ., 0, 5, ., 2, 9]\n",
       "2  [1,  , w, r, z, e, ś, n, i, a,  , 2, 0, 2, 0]\n",
       "3                 [2, 0, 2, 2, _, 0, 4, _, 2, 9]"
      ]
     },
     "execution_count": 10,
     "metadata": {},
     "output_type": "execute_result"
    }
   ],
   "source": [
    "regex = '.'\n",
    "\n",
    "pd.DataFrame(p2['Przykłady'].str.findall(regex))"
   ]
  },
  {
   "cell_type": "code",
   "execution_count": 11,
   "id": "a8cee1bb",
   "metadata": {},
   "outputs": [
    {
     "data": {
      "text/html": [
       "<div>\n",
       "<style scoped>\n",
       "    .dataframe tbody tr th:only-of-type {\n",
       "        vertical-align: middle;\n",
       "    }\n",
       "\n",
       "    .dataframe tbody tr th {\n",
       "        vertical-align: top;\n",
       "    }\n",
       "\n",
       "    .dataframe thead th {\n",
       "        text-align: right;\n",
       "    }\n",
       "</style>\n",
       "<table border=\"1\" class=\"dataframe\">\n",
       "  <thead>\n",
       "    <tr style=\"text-align: right;\">\n",
       "      <th></th>\n",
       "      <th>Przykłady</th>\n",
       "    </tr>\n",
       "  </thead>\n",
       "  <tbody>\n",
       "    <tr>\n",
       "      <th>0</th>\n",
       "      <td>[2, 0, 2, 2, 0, 3, 1, 2]</td>\n",
       "    </tr>\n",
       "    <tr>\n",
       "      <th>1</th>\n",
       "      <td>[2, 0, 2, 1, 0, 5, 2, 9]</td>\n",
       "    </tr>\n",
       "    <tr>\n",
       "      <th>2</th>\n",
       "      <td>[1, 2, 0, 2, 0]</td>\n",
       "    </tr>\n",
       "    <tr>\n",
       "      <th>3</th>\n",
       "      <td>[2, 0, 2, 2, 0, 4, 2, 9]</td>\n",
       "    </tr>\n",
       "  </tbody>\n",
       "</table>\n",
       "</div>"
      ],
      "text/plain": [
       "                  Przykłady\n",
       "0  [2, 0, 2, 2, 0, 3, 1, 2]\n",
       "1  [2, 0, 2, 1, 0, 5, 2, 9]\n",
       "2           [1, 2, 0, 2, 0]\n",
       "3  [2, 0, 2, 2, 0, 4, 2, 9]"
      ]
     },
     "execution_count": 11,
     "metadata": {},
     "output_type": "execute_result"
    }
   ],
   "source": [
    "regex = '\\d'\n",
    "\n",
    "pd.DataFrame(p2['Przykłady'].str.findall(regex))"
   ]
  },
  {
   "cell_type": "code",
   "execution_count": 12,
   "id": "f1c80e46",
   "metadata": {},
   "outputs": [
    {
     "data": {
      "text/html": [
       "<div>\n",
       "<style scoped>\n",
       "    .dataframe tbody tr th:only-of-type {\n",
       "        vertical-align: middle;\n",
       "    }\n",
       "\n",
       "    .dataframe tbody tr th {\n",
       "        vertical-align: top;\n",
       "    }\n",
       "\n",
       "    .dataframe thead th {\n",
       "        text-align: right;\n",
       "    }\n",
       "</style>\n",
       "<table border=\"1\" class=\"dataframe\">\n",
       "  <thead>\n",
       "    <tr style=\"text-align: right;\">\n",
       "      <th></th>\n",
       "      <th>Przykłady</th>\n",
       "    </tr>\n",
       "  </thead>\n",
       "  <tbody>\n",
       "    <tr>\n",
       "      <th>0</th>\n",
       "      <td>[2, 0, 2, 2, 0, 3, 1, 2]</td>\n",
       "    </tr>\n",
       "    <tr>\n",
       "      <th>1</th>\n",
       "      <td>[2, 0, 2, 1, 0, 5, 2, 9]</td>\n",
       "    </tr>\n",
       "    <tr>\n",
       "      <th>2</th>\n",
       "      <td>[1, w, r, z, e, ś, n, i, a, 2, 0, 2, 0]</td>\n",
       "    </tr>\n",
       "    <tr>\n",
       "      <th>3</th>\n",
       "      <td>[2, 0, 2, 2, _, 0, 4, _, 2, 9]</td>\n",
       "    </tr>\n",
       "  </tbody>\n",
       "</table>\n",
       "</div>"
      ],
      "text/plain": [
       "                                 Przykłady\n",
       "0                 [2, 0, 2, 2, 0, 3, 1, 2]\n",
       "1                 [2, 0, 2, 1, 0, 5, 2, 9]\n",
       "2  [1, w, r, z, e, ś, n, i, a, 2, 0, 2, 0]\n",
       "3           [2, 0, 2, 2, _, 0, 4, _, 2, 9]"
      ]
     },
     "execution_count": 12,
     "metadata": {},
     "output_type": "execute_result"
    }
   ],
   "source": [
    "regex = '\\w'\n",
    "\n",
    "pd.DataFrame(p2['Przykłady'].str.findall(regex))"
   ]
  },
  {
   "cell_type": "code",
   "execution_count": 13,
   "id": "63ed4c9d",
   "metadata": {},
   "outputs": [
    {
     "data": {
      "text/html": [
       "<div>\n",
       "<style scoped>\n",
       "    .dataframe tbody tr th:only-of-type {\n",
       "        vertical-align: middle;\n",
       "    }\n",
       "\n",
       "    .dataframe tbody tr th {\n",
       "        vertical-align: top;\n",
       "    }\n",
       "\n",
       "    .dataframe thead th {\n",
       "        text-align: right;\n",
       "    }\n",
       "</style>\n",
       "<table border=\"1\" class=\"dataframe\">\n",
       "  <thead>\n",
       "    <tr style=\"text-align: right;\">\n",
       "      <th></th>\n",
       "      <th>Przykłady</th>\n",
       "    </tr>\n",
       "  </thead>\n",
       "  <tbody>\n",
       "    <tr>\n",
       "      <th>0</th>\n",
       "      <td>[]</td>\n",
       "    </tr>\n",
       "    <tr>\n",
       "      <th>1</th>\n",
       "      <td>[]</td>\n",
       "    </tr>\n",
       "    <tr>\n",
       "      <th>2</th>\n",
       "      <td>[ ,  ]</td>\n",
       "    </tr>\n",
       "    <tr>\n",
       "      <th>3</th>\n",
       "      <td>[]</td>\n",
       "    </tr>\n",
       "  </tbody>\n",
       "</table>\n",
       "</div>"
      ],
      "text/plain": [
       "  Przykłady\n",
       "0        []\n",
       "1        []\n",
       "2    [ ,  ]\n",
       "3        []"
      ]
     },
     "execution_count": 13,
     "metadata": {},
     "output_type": "execute_result"
    }
   ],
   "source": [
    "regex = '\\s'\n",
    "\n",
    "pd.DataFrame(p2['Przykłady'].str.findall(regex))"
   ]
  },
  {
   "cell_type": "markdown",
   "id": "1a4f2a90",
   "metadata": {},
   "source": [
    "Znajdzmy datę w formacie xxxx-xx-xx, gdzie x oznacza cyfrę:"
   ]
  },
  {
   "cell_type": "code",
   "execution_count": 15,
   "id": "c91bc53e",
   "metadata": {},
   "outputs": [
    {
     "data": {
      "text/html": [
       "<div>\n",
       "<style scoped>\n",
       "    .dataframe tbody tr th:only-of-type {\n",
       "        vertical-align: middle;\n",
       "    }\n",
       "\n",
       "    .dataframe tbody tr th {\n",
       "        vertical-align: top;\n",
       "    }\n",
       "\n",
       "    .dataframe thead th {\n",
       "        text-align: right;\n",
       "    }\n",
       "</style>\n",
       "<table border=\"1\" class=\"dataframe\">\n",
       "  <thead>\n",
       "    <tr style=\"text-align: right;\">\n",
       "      <th></th>\n",
       "      <th>Przykłady</th>\n",
       "    </tr>\n",
       "  </thead>\n",
       "  <tbody>\n",
       "    <tr>\n",
       "      <th>0</th>\n",
       "      <td>[2022-03-12]</td>\n",
       "    </tr>\n",
       "    <tr>\n",
       "      <th>1</th>\n",
       "      <td>[]</td>\n",
       "    </tr>\n",
       "    <tr>\n",
       "      <th>2</th>\n",
       "      <td>[]</td>\n",
       "    </tr>\n",
       "    <tr>\n",
       "      <th>3</th>\n",
       "      <td>[]</td>\n",
       "    </tr>\n",
       "  </tbody>\n",
       "</table>\n",
       "</div>"
      ],
      "text/plain": [
       "      Przykłady\n",
       "0  [2022-03-12]\n",
       "1            []\n",
       "2            []\n",
       "3            []"
      ]
     },
     "execution_count": 15,
     "metadata": {},
     "output_type": "execute_result"
    }
   ],
   "source": [
    "regex = '^\\d\\d\\d\\d-\\d\\d-\\d\\d$'\n",
    "\n",
    "pd.DataFrame(p2['Przykłady'].str.findall(regex))"
   ]
  },
  {
   "cell_type": "markdown",
   "id": "897c8356",
   "metadata": {},
   "source": [
    "### Quantifiers (kwantyfikatory)"
   ]
  },
  {
   "cell_type": "markdown",
   "id": "7e0a862f",
   "metadata": {},
   "source": [
    "> a{3} &emsp; litera a powtórzona 3 razy"
   ]
  },
  {
   "cell_type": "markdown",
   "id": "839042a2",
   "metadata": {},
   "source": [
    "> a{3,6} &emsp; litera a powtórzona od 3 do 6 razy"
   ]
  },
  {
   "cell_type": "markdown",
   "id": "05b714db",
   "metadata": {},
   "source": [
    "> a{3,} &emsp; litera a powtórzona 3 lub więcej razy"
   ]
  },
  {
   "cell_type": "code",
   "execution_count": 16,
   "id": "da6951b2",
   "metadata": {},
   "outputs": [
    {
     "data": {
      "text/html": [
       "<div>\n",
       "<style scoped>\n",
       "    .dataframe tbody tr th:only-of-type {\n",
       "        vertical-align: middle;\n",
       "    }\n",
       "\n",
       "    .dataframe tbody tr th {\n",
       "        vertical-align: top;\n",
       "    }\n",
       "\n",
       "    .dataframe thead th {\n",
       "        text-align: right;\n",
       "    }\n",
       "</style>\n",
       "<table border=\"1\" class=\"dataframe\">\n",
       "  <thead>\n",
       "    <tr style=\"text-align: right;\">\n",
       "      <th></th>\n",
       "      <th>Przykłady</th>\n",
       "    </tr>\n",
       "  </thead>\n",
       "  <tbody>\n",
       "    <tr>\n",
       "      <th>0</th>\n",
       "      <td>[2022-03-12]</td>\n",
       "    </tr>\n",
       "    <tr>\n",
       "      <th>1</th>\n",
       "      <td>[]</td>\n",
       "    </tr>\n",
       "    <tr>\n",
       "      <th>2</th>\n",
       "      <td>[]</td>\n",
       "    </tr>\n",
       "    <tr>\n",
       "      <th>3</th>\n",
       "      <td>[]</td>\n",
       "    </tr>\n",
       "  </tbody>\n",
       "</table>\n",
       "</div>"
      ],
      "text/plain": [
       "      Przykłady\n",
       "0  [2022-03-12]\n",
       "1            []\n",
       "2            []\n",
       "3            []"
      ]
     },
     "execution_count": 16,
     "metadata": {},
     "output_type": "execute_result"
    }
   ],
   "source": [
    "regex = '^\\d{4}-\\d{2}-\\d{2}$'\n",
    "\n",
    "pd.DataFrame(p2['Przykłady'].str.findall(regex))"
   ]
  },
  {
   "cell_type": "code",
   "execution_count": 17,
   "id": "e9c92155",
   "metadata": {},
   "outputs": [
    {
     "data": {
      "text/html": [
       "<div>\n",
       "<style scoped>\n",
       "    .dataframe tbody tr th:only-of-type {\n",
       "        vertical-align: middle;\n",
       "    }\n",
       "\n",
       "    .dataframe tbody tr th {\n",
       "        vertical-align: top;\n",
       "    }\n",
       "\n",
       "    .dataframe thead th {\n",
       "        text-align: right;\n",
       "    }\n",
       "</style>\n",
       "<table border=\"1\" class=\"dataframe\">\n",
       "  <thead>\n",
       "    <tr style=\"text-align: right;\">\n",
       "      <th></th>\n",
       "      <th>Przykłady</th>\n",
       "    </tr>\n",
       "  </thead>\n",
       "  <tbody>\n",
       "    <tr>\n",
       "      <th>0</th>\n",
       "      <td>[2022-03-12]</td>\n",
       "    </tr>\n",
       "    <tr>\n",
       "      <th>1</th>\n",
       "      <td>[2021.05.29]</td>\n",
       "    </tr>\n",
       "    <tr>\n",
       "      <th>2</th>\n",
       "      <td>[]</td>\n",
       "    </tr>\n",
       "    <tr>\n",
       "      <th>3</th>\n",
       "      <td>[2022_04_29]</td>\n",
       "    </tr>\n",
       "  </tbody>\n",
       "</table>\n",
       "</div>"
      ],
      "text/plain": [
       "      Przykłady\n",
       "0  [2022-03-12]\n",
       "1  [2021.05.29]\n",
       "2            []\n",
       "3  [2022_04_29]"
      ]
     },
     "execution_count": 17,
     "metadata": {},
     "output_type": "execute_result"
    }
   ],
   "source": [
    "regex = '^.{10}$'\n",
    "\n",
    "pd.DataFrame(p2['Przykłady'].str.findall(regex))"
   ]
  },
  {
   "cell_type": "code",
   "execution_count": 18,
   "id": "078607c9",
   "metadata": {},
   "outputs": [
    {
     "data": {
      "text/html": [
       "<div>\n",
       "<style scoped>\n",
       "    .dataframe tbody tr th:only-of-type {\n",
       "        vertical-align: middle;\n",
       "    }\n",
       "\n",
       "    .dataframe tbody tr th {\n",
       "        vertical-align: top;\n",
       "    }\n",
       "\n",
       "    .dataframe thead th {\n",
       "        text-align: right;\n",
       "    }\n",
       "</style>\n",
       "<table border=\"1\" class=\"dataframe\">\n",
       "  <thead>\n",
       "    <tr style=\"text-align: right;\">\n",
       "      <th></th>\n",
       "      <th>Przykłady</th>\n",
       "    </tr>\n",
       "  </thead>\n",
       "  <tbody>\n",
       "    <tr>\n",
       "      <th>0</th>\n",
       "      <td>[2022-03-12]</td>\n",
       "    </tr>\n",
       "    <tr>\n",
       "      <th>1</th>\n",
       "      <td>[2021.05.29]</td>\n",
       "    </tr>\n",
       "    <tr>\n",
       "      <th>2</th>\n",
       "      <td>[1 września 2020]</td>\n",
       "    </tr>\n",
       "    <tr>\n",
       "      <th>3</th>\n",
       "      <td>[2022_04_29]</td>\n",
       "    </tr>\n",
       "  </tbody>\n",
       "</table>\n",
       "</div>"
      ],
      "text/plain": [
       "           Przykłady\n",
       "0       [2022-03-12]\n",
       "1       [2021.05.29]\n",
       "2  [1 września 2020]\n",
       "3       [2022_04_29]"
      ]
     },
     "execution_count": 18,
     "metadata": {},
     "output_type": "execute_result"
    }
   ],
   "source": [
    "regex = '^.{10,}$'\n",
    "\n",
    "pd.DataFrame(p2['Przykłady'].str.findall(regex))"
   ]
  },
  {
   "cell_type": "markdown",
   "id": "2d9300e7",
   "metadata": {},
   "source": [
    "> a? &emsp; litera a powtórzona 0 lub 1 raz"
   ]
  },
  {
   "cell_type": "markdown",
   "id": "6687f293",
   "metadata": {},
   "source": [
    "> a* &emsp; litera a powtórzona 0 lub więcej razy"
   ]
  },
  {
   "cell_type": "markdown",
   "id": "c6c2844e",
   "metadata": {},
   "source": [
    "> a+ &emsp; litera a powtórzona 1 lub więcej razy"
   ]
  },
  {
   "cell_type": "code",
   "execution_count": 23,
   "id": "1a10aca6",
   "metadata": {},
   "outputs": [
    {
     "data": {
      "text/html": [
       "<div>\n",
       "<style scoped>\n",
       "    .dataframe tbody tr th:only-of-type {\n",
       "        vertical-align: middle;\n",
       "    }\n",
       "\n",
       "    .dataframe tbody tr th {\n",
       "        vertical-align: top;\n",
       "    }\n",
       "\n",
       "    .dataframe thead th {\n",
       "        text-align: right;\n",
       "    }\n",
       "</style>\n",
       "<table border=\"1\" class=\"dataframe\">\n",
       "  <thead>\n",
       "    <tr style=\"text-align: right;\">\n",
       "      <th></th>\n",
       "      <th>Przykłady</th>\n",
       "    </tr>\n",
       "  </thead>\n",
       "  <tbody>\n",
       "    <tr>\n",
       "      <th>0</th>\n",
       "      <td>color</td>\n",
       "    </tr>\n",
       "    <tr>\n",
       "      <th>1</th>\n",
       "      <td>colour</td>\n",
       "    </tr>\n",
       "    <tr>\n",
       "      <th>2</th>\n",
       "      <td>coolor</td>\n",
       "    </tr>\n",
       "  </tbody>\n",
       "</table>\n",
       "</div>"
      ],
      "text/plain": [
       "  Przykłady\n",
       "0     color\n",
       "1    colour\n",
       "2    coolor"
      ]
     },
     "execution_count": 23,
     "metadata": {},
     "output_type": "execute_result"
    }
   ],
   "source": [
    "p3 = pd.DataFrame(['color',\n",
    "                   'colour',\n",
    "                   'coolor']).rename(columns={0:'Przykłady'})\n",
    "p3"
   ]
  },
  {
   "cell_type": "code",
   "execution_count": 24,
   "id": "305f556a",
   "metadata": {},
   "outputs": [
    {
     "data": {
      "text/html": [
       "<div>\n",
       "<style scoped>\n",
       "    .dataframe tbody tr th:only-of-type {\n",
       "        vertical-align: middle;\n",
       "    }\n",
       "\n",
       "    .dataframe tbody tr th {\n",
       "        vertical-align: top;\n",
       "    }\n",
       "\n",
       "    .dataframe thead th {\n",
       "        text-align: right;\n",
       "    }\n",
       "</style>\n",
       "<table border=\"1\" class=\"dataframe\">\n",
       "  <thead>\n",
       "    <tr style=\"text-align: right;\">\n",
       "      <th></th>\n",
       "      <th>Przykłady</th>\n",
       "    </tr>\n",
       "  </thead>\n",
       "  <tbody>\n",
       "    <tr>\n",
       "      <th>0</th>\n",
       "      <td>[color]</td>\n",
       "    </tr>\n",
       "    <tr>\n",
       "      <th>1</th>\n",
       "      <td>[colour]</td>\n",
       "    </tr>\n",
       "    <tr>\n",
       "      <th>2</th>\n",
       "      <td>[]</td>\n",
       "    </tr>\n",
       "  </tbody>\n",
       "</table>\n",
       "</div>"
      ],
      "text/plain": [
       "  Przykłady\n",
       "0   [color]\n",
       "1  [colour]\n",
       "2        []"
      ]
     },
     "execution_count": 24,
     "metadata": {},
     "output_type": "execute_result"
    }
   ],
   "source": [
    "regex = '^colou?r$'\n",
    "\n",
    "pd.DataFrame(p3['Przykłady'].str.findall(regex))"
   ]
  },
  {
   "cell_type": "code",
   "execution_count": 25,
   "id": "ec04e008",
   "metadata": {},
   "outputs": [
    {
     "data": {
      "text/html": [
       "<div>\n",
       "<style scoped>\n",
       "    .dataframe tbody tr th:only-of-type {\n",
       "        vertical-align: middle;\n",
       "    }\n",
       "\n",
       "    .dataframe tbody tr th {\n",
       "        vertical-align: top;\n",
       "    }\n",
       "\n",
       "    .dataframe thead th {\n",
       "        text-align: right;\n",
       "    }\n",
       "</style>\n",
       "<table border=\"1\" class=\"dataframe\">\n",
       "  <thead>\n",
       "    <tr style=\"text-align: right;\">\n",
       "      <th></th>\n",
       "      <th>Przykłady</th>\n",
       "    </tr>\n",
       "  </thead>\n",
       "  <tbody>\n",
       "    <tr>\n",
       "      <th>0</th>\n",
       "      <td>[color]</td>\n",
       "    </tr>\n",
       "    <tr>\n",
       "      <th>1</th>\n",
       "      <td>[colour]</td>\n",
       "    </tr>\n",
       "    <tr>\n",
       "      <th>2</th>\n",
       "      <td>[]</td>\n",
       "    </tr>\n",
       "  </tbody>\n",
       "</table>\n",
       "</div>"
      ],
      "text/plain": [
       "  Przykłady\n",
       "0   [color]\n",
       "1  [colour]\n",
       "2        []"
      ]
     },
     "execution_count": 25,
     "metadata": {},
     "output_type": "execute_result"
    }
   ],
   "source": [
    "regex = '^colou*r$'\n",
    "\n",
    "pd.DataFrame(p3['Przykłady'].str.findall(regex))"
   ]
  },
  {
   "cell_type": "code",
   "execution_count": 26,
   "id": "fae91447",
   "metadata": {},
   "outputs": [
    {
     "data": {
      "text/html": [
       "<div>\n",
       "<style scoped>\n",
       "    .dataframe tbody tr th:only-of-type {\n",
       "        vertical-align: middle;\n",
       "    }\n",
       "\n",
       "    .dataframe tbody tr th {\n",
       "        vertical-align: top;\n",
       "    }\n",
       "\n",
       "    .dataframe thead th {\n",
       "        text-align: right;\n",
       "    }\n",
       "</style>\n",
       "<table border=\"1\" class=\"dataframe\">\n",
       "  <thead>\n",
       "    <tr style=\"text-align: right;\">\n",
       "      <th></th>\n",
       "      <th>Przykłady</th>\n",
       "    </tr>\n",
       "  </thead>\n",
       "  <tbody>\n",
       "    <tr>\n",
       "      <th>0</th>\n",
       "      <td>[color]</td>\n",
       "    </tr>\n",
       "    <tr>\n",
       "      <th>1</th>\n",
       "      <td>[colour]</td>\n",
       "    </tr>\n",
       "    <tr>\n",
       "      <th>2</th>\n",
       "      <td>[coolor]</td>\n",
       "    </tr>\n",
       "  </tbody>\n",
       "</table>\n",
       "</div>"
      ],
      "text/plain": [
       "  Przykłady\n",
       "0   [color]\n",
       "1  [colour]\n",
       "2  [coolor]"
      ]
     },
     "execution_count": 26,
     "metadata": {},
     "output_type": "execute_result"
    }
   ],
   "source": [
    "regex = '^co+lou*r$'\n",
    "\n",
    "pd.DataFrame(p3['Przykłady'].str.findall(regex))"
   ]
  },
  {
   "cell_type": "markdown",
   "id": "01347f81",
   "metadata": {},
   "source": [
    "### Grupy"
   ]
  },
  {
   "cell_type": "code",
   "execution_count": 64,
   "id": "e7178e22",
   "metadata": {},
   "outputs": [
    {
     "data": {
      "text/html": [
       "<div>\n",
       "<style scoped>\n",
       "    .dataframe tbody tr th:only-of-type {\n",
       "        vertical-align: middle;\n",
       "    }\n",
       "\n",
       "    .dataframe tbody tr th {\n",
       "        vertical-align: top;\n",
       "    }\n",
       "\n",
       "    .dataframe thead th {\n",
       "        text-align: right;\n",
       "    }\n",
       "</style>\n",
       "<table border=\"1\" class=\"dataframe\">\n",
       "  <thead>\n",
       "    <tr style=\"text-align: right;\">\n",
       "      <th></th>\n",
       "      <th>Przykłady</th>\n",
       "    </tr>\n",
       "  </thead>\n",
       "  <tbody>\n",
       "    <tr>\n",
       "      <th>0</th>\n",
       "      <td>56121411110</td>\n",
       "    </tr>\n",
       "    <tr>\n",
       "      <th>1</th>\n",
       "      <td>82030586028</td>\n",
       "    </tr>\n",
       "    <tr>\n",
       "      <th>2</th>\n",
       "      <td>04082522202</td>\n",
       "    </tr>\n",
       "  </tbody>\n",
       "</table>\n",
       "</div>"
      ],
      "text/plain": [
       "     Przykłady\n",
       "0  56121411110\n",
       "1  82030586028\n",
       "2  04082522202"
      ]
     },
     "execution_count": 64,
     "metadata": {},
     "output_type": "execute_result"
    }
   ],
   "source": [
    "p4 = pd.DataFrame(['56121411110',\n",
    "                   '82030586028',\n",
    "                   '04082522202']).rename(columns={0:'Przykłady'})\n",
    "p4"
   ]
  },
  {
   "cell_type": "code",
   "execution_count": 72,
   "id": "7e6a5f14",
   "metadata": {},
   "outputs": [
    {
     "name": "stdout",
     "output_type": "stream",
     "text": [
      "{'rok': '56', 'miesiąc': '12', 'dzień': '14', 'seria': '111', 'plec': '1', 'cyfra_kontrolna': '0'}\n",
      "{'rok': '82', 'miesiąc': '03', 'dzień': '05', 'seria': '860', 'plec': '2', 'cyfra_kontrolna': '8'}\n",
      "{'rok': '04', 'miesiąc': '08', 'dzień': '25', 'seria': '222', 'plec': '0', 'cyfra_kontrolna': '2'}\n"
     ]
    }
   ],
   "source": [
    "regex = '^(?P<rok>\\d\\d)(?P<miesiąc>\\d\\d)(?P<dzień>\\d\\d)(?P<seria>\\d\\d\\d)(?P<plec>\\d)(?P<cyfra_kontrolna>\\d)$'\n",
    "\n",
    "for row in list(p4['Przykłady']):\n",
    "    for item in re.finditer(regex, row):\n",
    "        print(item.groupdict())"
   ]
  },
  {
   "cell_type": "markdown",
   "id": "4a91dff6",
   "metadata": {},
   "source": [
    "### Lookahead & Look-ehind"
   ]
  },
  {
   "cell_type": "markdown",
   "id": "e60fb65d",
   "metadata": {},
   "source": [
    "> (?=lat) &emsp; lookahead - dopasuj, jeśli przed występuje słowo 'lat'"
   ]
  },
  {
   "cell_type": "markdown",
   "id": "039ea0a0",
   "metadata": {},
   "source": [
    "> (?<=Wiek) &emsp; lookbehind - dopasuj, jeśli po występuje słowo 'Wiek'"
   ]
  },
  {
   "cell_type": "code",
   "execution_count": 87,
   "id": "bb26df1e",
   "metadata": {},
   "outputs": [],
   "source": [
    "pd.set_option('display.max_colwidth', 500)"
   ]
  },
  {
   "cell_type": "code",
   "execution_count": 88,
   "id": "ceb25c72",
   "metadata": {},
   "outputs": [
    {
     "data": {
      "text/html": [
       "<div>\n",
       "<style scoped>\n",
       "    .dataframe tbody tr th:only-of-type {\n",
       "        vertical-align: middle;\n",
       "    }\n",
       "\n",
       "    .dataframe tbody tr th {\n",
       "        vertical-align: top;\n",
       "    }\n",
       "\n",
       "    .dataframe thead th {\n",
       "        text-align: right;\n",
       "    }\n",
       "</style>\n",
       "<table border=\"1\" class=\"dataframe\">\n",
       "  <thead>\n",
       "    <tr style=\"text-align: right;\">\n",
       "      <th></th>\n",
       "      <th>Przykłady</th>\n",
       "    </tr>\n",
       "  </thead>\n",
       "  <tbody>\n",
       "    <tr>\n",
       "      <th>0</th>\n",
       "      <td>Imię: Jan, Nazwisko: Kowalski, Wiek: 38 lat, Wzrost: 172 cm</td>\n",
       "    </tr>\n",
       "    <tr>\n",
       "      <th>1</th>\n",
       "      <td>Imię: Anna, Nazwisko: Nowak, Wiek: 5 lat, Wzrost: 168 cm</td>\n",
       "    </tr>\n",
       "    <tr>\n",
       "      <th>2</th>\n",
       "      <td>Imię: Zygmunt, Nazwisko:, Wiek: 102 lat, Wzrost: cm</td>\n",
       "    </tr>\n",
       "  </tbody>\n",
       "</table>\n",
       "</div>"
      ],
      "text/plain": [
       "                                                     Przykłady\n",
       "0  Imię: Jan, Nazwisko: Kowalski, Wiek: 38 lat, Wzrost: 172 cm\n",
       "1     Imię: Anna, Nazwisko: Nowak, Wiek: 5 lat, Wzrost: 168 cm\n",
       "2          Imię: Zygmunt, Nazwisko:, Wiek: 102 lat, Wzrost: cm"
      ]
     },
     "execution_count": 88,
     "metadata": {},
     "output_type": "execute_result"
    }
   ],
   "source": [
    "p5 = pd.DataFrame(['Imię: Jan, Nazwisko: Kowalski, Wiek: 38 lat, Wzrost: 172 cm',\n",
    "                   'Imię: Anna, Nazwisko: Nowak, Wiek: 5 lat, Wzrost: 168 cm',\n",
    "                   'Imię: Zygmunt, Nazwisko:, Wiek: 102 lat, Wzrost: cm']).rename(columns={0:'Przykłady'})\n",
    "p5"
   ]
  },
  {
   "cell_type": "code",
   "execution_count": 124,
   "id": "505bd91c",
   "metadata": {},
   "outputs": [
    {
     "data": {
      "text/html": [
       "<div>\n",
       "<style scoped>\n",
       "    .dataframe tbody tr th:only-of-type {\n",
       "        vertical-align: middle;\n",
       "    }\n",
       "\n",
       "    .dataframe tbody tr th {\n",
       "        vertical-align: top;\n",
       "    }\n",
       "\n",
       "    .dataframe thead th {\n",
       "        text-align: right;\n",
       "    }\n",
       "</style>\n",
       "<table border=\"1\" class=\"dataframe\">\n",
       "  <thead>\n",
       "    <tr style=\"text-align: right;\">\n",
       "      <th></th>\n",
       "      <th>Przykłady</th>\n",
       "    </tr>\n",
       "  </thead>\n",
       "  <tbody>\n",
       "    <tr>\n",
       "      <th>0</th>\n",
       "      <td>[38]</td>\n",
       "    </tr>\n",
       "    <tr>\n",
       "      <th>1</th>\n",
       "      <td>[5]</td>\n",
       "    </tr>\n",
       "    <tr>\n",
       "      <th>2</th>\n",
       "      <td>[102]</td>\n",
       "    </tr>\n",
       "  </tbody>\n",
       "</table>\n",
       "</div>"
      ],
      "text/plain": [
       "  Przykłady\n",
       "0      [38]\n",
       "1       [5]\n",
       "2     [102]"
      ]
     },
     "execution_count": 124,
     "metadata": {},
     "output_type": "execute_result"
    }
   ],
   "source": [
    "regex = '(?<= Wiek:\\ ).*(?= lat)'\n",
    "\n",
    "pd.DataFrame(p5['Przykłady'].str.findall(regex))"
   ]
  },
  {
   "cell_type": "code",
   "execution_count": 125,
   "id": "0f33178a",
   "metadata": {},
   "outputs": [
    {
     "data": {
      "text/html": [
       "<div>\n",
       "<style scoped>\n",
       "    .dataframe tbody tr th:only-of-type {\n",
       "        vertical-align: middle;\n",
       "    }\n",
       "\n",
       "    .dataframe tbody tr th {\n",
       "        vertical-align: top;\n",
       "    }\n",
       "\n",
       "    .dataframe thead th {\n",
       "        text-align: right;\n",
       "    }\n",
       "</style>\n",
       "<table border=\"1\" class=\"dataframe\">\n",
       "  <thead>\n",
       "    <tr style=\"text-align: right;\">\n",
       "      <th></th>\n",
       "      <th>Przykłady</th>\n",
       "    </tr>\n",
       "  </thead>\n",
       "  <tbody>\n",
       "    <tr>\n",
       "      <th>0</th>\n",
       "      <td>[Jan, Nazwisko: Kowalski, Wiek: 38 lat, Wzrost: 172 cm]</td>\n",
       "    </tr>\n",
       "    <tr>\n",
       "      <th>1</th>\n",
       "      <td>[Anna, Nazwisko: Nowak, Wiek: 5 lat, Wzrost: 168 cm]</td>\n",
       "    </tr>\n",
       "    <tr>\n",
       "      <th>2</th>\n",
       "      <td>[Zygmunt, Nazwisko:, Wiek: 102 lat, Wzrost: cm]</td>\n",
       "    </tr>\n",
       "  </tbody>\n",
       "</table>\n",
       "</div>"
      ],
      "text/plain": [
       "                                                 Przykłady\n",
       "0  [Jan, Nazwisko: Kowalski, Wiek: 38 lat, Wzrost: 172 cm]\n",
       "1     [Anna, Nazwisko: Nowak, Wiek: 5 lat, Wzrost: 168 cm]\n",
       "2          [Zygmunt, Nazwisko:, Wiek: 102 lat, Wzrost: cm]"
      ]
     },
     "execution_count": 125,
     "metadata": {},
     "output_type": "execute_result"
    }
   ],
   "source": [
    "regex = '(?<=Imię: ).*'\n",
    "\n",
    "pd.DataFrame(p5['Przykłady'].str.findall(regex))"
   ]
  },
  {
   "cell_type": "code",
   "execution_count": 169,
   "id": "4b4009f8",
   "metadata": {},
   "outputs": [
    {
     "name": "stdout",
     "output_type": "stream",
     "text": [
      "{'imię': 'Jan', 'nazwisko': 'Kowalski', 'wiek': '38 lat', 'wzrost': '172 cm'}\n",
      "{'imię': 'Anna', 'nazwisko': 'Nowak', 'wiek': '5 lat', 'wzrost': '168 cm'}\n",
      "{'imię': 'Zygmunt', 'nazwisko': '', 'wiek': '102 lat', 'wzrost': ' cm'}\n"
     ]
    }
   ],
   "source": [
    "regex = \"\"\"\n",
    "        (^Imię:\\ *)             #imię\n",
    "        (?P<imię>\\w*)           #imię\n",
    "        (,\\ )                   #przecinek\n",
    "        (Nazwisko:\\ *)          #nazwisko\n",
    "        (?P<nazwisko>\\w*)       #nazwisko\n",
    "        (,\\ )                   #przecinek\n",
    "        (Wiek:\\ *)              #wiek\n",
    "        (?P<wiek>\\d{0,3}\\ lat)  #wiek\n",
    "        (,\\ )                   #przecinek\n",
    "        (Wzrost:\\ *)            #wzrost\n",
    "        (?P<wzrost>\\d{0,3}\\ cm) #wzrost\n",
    "        \"\"\"\n",
    "\n",
    "for row in list(p5['Przykłady']):\n",
    "    for item in re.finditer(regex, row, re.VERBOSE):\n",
    "        print(item.groupdict())"
   ]
  },
  {
   "cell_type": "markdown",
   "id": "a0ca09ea",
   "metadata": {},
   "source": [
    "### Negacje"
   ]
  },
  {
   "cell_type": "markdown",
   "id": "dccce364",
   "metadata": {},
   "source": [
    "> [^a-zA-z] &emsp; wszystko z wyjątkiem od a do z i od A do Z"
   ]
  },
  {
   "cell_type": "markdown",
   "id": "593a00f6",
   "metadata": {},
   "source": [
    "> (?!opak) &emsp; negative lookahead - nie dopasowuj, jeśli po występuje słowo 'opak'"
   ]
  },
  {
   "cell_type": "markdown",
   "id": "50ff76bb",
   "metadata": {},
   "source": [
    "> (?<!opak) &emsp; negative lookbehind - nie dopasowuj, jeśli przed występuje słowo 'opak'"
   ]
  },
  {
   "cell_type": "code",
   "execution_count": 251,
   "id": "7c13f39a",
   "metadata": {},
   "outputs": [
    {
     "data": {
      "text/html": [
       "<div>\n",
       "<style scoped>\n",
       "    .dataframe tbody tr th:only-of-type {\n",
       "        vertical-align: middle;\n",
       "    }\n",
       "\n",
       "    .dataframe tbody tr th {\n",
       "        vertical-align: top;\n",
       "    }\n",
       "\n",
       "    .dataframe thead th {\n",
       "        text-align: right;\n",
       "    }\n",
       "</style>\n",
       "<table border=\"1\" class=\"dataframe\">\n",
       "  <thead>\n",
       "    <tr style=\"text-align: right;\">\n",
       "      <th></th>\n",
       "      <th>Przykłady</th>\n",
       "    </tr>\n",
       "  </thead>\n",
       "  <tbody>\n",
       "    <tr>\n",
       "      <th>0</th>\n",
       "      <td>1 opak 20 tabletek</td>\n",
       "    </tr>\n",
       "    <tr>\n",
       "      <th>1</th>\n",
       "      <td>2 opak 30 tabletek w 3 blistrach</td>\n",
       "    </tr>\n",
       "  </tbody>\n",
       "</table>\n",
       "</div>"
      ],
      "text/plain": [
       "                          Przykłady\n",
       "0                1 opak 20 tabletek\n",
       "1  2 opak 30 tabletek w 3 blistrach"
      ]
     },
     "execution_count": 251,
     "metadata": {},
     "output_type": "execute_result"
    }
   ],
   "source": [
    "p6 = pd.DataFrame(['1 opak 20 tabletek', \n",
    "                   '2 opak 30 tabletek w 3 blistrach']).rename(columns={0:'Przykłady'})\n",
    "p6"
   ]
  },
  {
   "cell_type": "code",
   "execution_count": 256,
   "id": "eacdbab0",
   "metadata": {},
   "outputs": [
    {
     "data": {
      "text/html": [
       "<div>\n",
       "<style scoped>\n",
       "    .dataframe tbody tr th:only-of-type {\n",
       "        vertical-align: middle;\n",
       "    }\n",
       "\n",
       "    .dataframe tbody tr th {\n",
       "        vertical-align: top;\n",
       "    }\n",
       "\n",
       "    .dataframe thead th {\n",
       "        text-align: right;\n",
       "    }\n",
       "</style>\n",
       "<table border=\"1\" class=\"dataframe\">\n",
       "  <thead>\n",
       "    <tr style=\"text-align: right;\">\n",
       "      <th></th>\n",
       "      <th>Przykłady</th>\n",
       "    </tr>\n",
       "  </thead>\n",
       "  <tbody>\n",
       "    <tr>\n",
       "      <th>0</th>\n",
       "      <td>[1,  ,  , 2, 0,  ]</td>\n",
       "    </tr>\n",
       "    <tr>\n",
       "      <th>1</th>\n",
       "      <td>[2,  ,  , 3, 0,  ,  ,  , 3,  ]</td>\n",
       "    </tr>\n",
       "  </tbody>\n",
       "</table>\n",
       "</div>"
      ],
      "text/plain": [
       "                        Przykłady\n",
       "0              [1,  ,  , 2, 0,  ]\n",
       "1  [2,  ,  , 3, 0,  ,  ,  , 3,  ]"
      ]
     },
     "execution_count": 256,
     "metadata": {},
     "output_type": "execute_result"
    }
   ],
   "source": [
    "regex = '[^a-zA-Z]'\n",
    "\n",
    "pd.DataFrame(p6['Przykłady'].str.findall(regex))"
   ]
  },
  {
   "cell_type": "code",
   "execution_count": 252,
   "id": "f4a8c7e8",
   "metadata": {},
   "outputs": [
    {
     "data": {
      "text/html": [
       "<div>\n",
       "<style scoped>\n",
       "    .dataframe tbody tr th:only-of-type {\n",
       "        vertical-align: middle;\n",
       "    }\n",
       "\n",
       "    .dataframe tbody tr th {\n",
       "        vertical-align: top;\n",
       "    }\n",
       "\n",
       "    .dataframe thead th {\n",
       "        text-align: right;\n",
       "    }\n",
       "</style>\n",
       "<table border=\"1\" class=\"dataframe\">\n",
       "  <thead>\n",
       "    <tr style=\"text-align: right;\">\n",
       "      <th></th>\n",
       "      <th>Przykłady</th>\n",
       "    </tr>\n",
       "  </thead>\n",
       "  <tbody>\n",
       "    <tr>\n",
       "      <th>0</th>\n",
       "      <td>[20]</td>\n",
       "    </tr>\n",
       "    <tr>\n",
       "      <th>1</th>\n",
       "      <td>[30, 3]</td>\n",
       "    </tr>\n",
       "  </tbody>\n",
       "</table>\n",
       "</div>"
      ],
      "text/plain": [
       "  Przykłady\n",
       "0      [20]\n",
       "1   [30, 3]"
      ]
     },
     "execution_count": 252,
     "metadata": {},
     "output_type": "execute_result"
    }
   ],
   "source": [
    "regex = '\\d+(?!\\ opak\\ )'\n",
    "\n",
    "pd.DataFrame(p6['Przykłady'].str.findall(regex))"
   ]
  },
  {
   "cell_type": "code",
   "execution_count": 253,
   "id": "e12860c9",
   "metadata": {},
   "outputs": [
    {
     "data": {
      "text/html": [
       "<div>\n",
       "<style scoped>\n",
       "    .dataframe tbody tr th:only-of-type {\n",
       "        vertical-align: middle;\n",
       "    }\n",
       "\n",
       "    .dataframe tbody tr th {\n",
       "        vertical-align: top;\n",
       "    }\n",
       "\n",
       "    .dataframe thead th {\n",
       "        text-align: right;\n",
       "    }\n",
       "</style>\n",
       "<table border=\"1\" class=\"dataframe\">\n",
       "  <thead>\n",
       "    <tr style=\"text-align: right;\">\n",
       "      <th></th>\n",
       "      <th>Przykłady</th>\n",
       "    </tr>\n",
       "  </thead>\n",
       "  <tbody>\n",
       "    <tr>\n",
       "      <th>0</th>\n",
       "      <td>[1, 20]</td>\n",
       "    </tr>\n",
       "    <tr>\n",
       "      <th>1</th>\n",
       "      <td>[2, 30]</td>\n",
       "    </tr>\n",
       "  </tbody>\n",
       "</table>\n",
       "</div>"
      ],
      "text/plain": [
       "  Przykłady\n",
       "0   [1, 20]\n",
       "1   [2, 30]"
      ]
     },
     "execution_count": 253,
     "metadata": {},
     "output_type": "execute_result"
    }
   ],
   "source": [
    "regex = '(?<!\\ w\\ )\\d+'\n",
    "\n",
    "pd.DataFrame(p6['Przykłady'].str.findall(regex))"
   ]
  },
  {
   "cell_type": "code",
   "execution_count": 255,
   "id": "4f75cc5f",
   "metadata": {},
   "outputs": [
    {
     "data": {
      "text/html": [
       "<div>\n",
       "<style scoped>\n",
       "    .dataframe tbody tr th:only-of-type {\n",
       "        vertical-align: middle;\n",
       "    }\n",
       "\n",
       "    .dataframe tbody tr th {\n",
       "        vertical-align: top;\n",
       "    }\n",
       "\n",
       "    .dataframe thead th {\n",
       "        text-align: right;\n",
       "    }\n",
       "</style>\n",
       "<table border=\"1\" class=\"dataframe\">\n",
       "  <thead>\n",
       "    <tr style=\"text-align: right;\">\n",
       "      <th></th>\n",
       "      <th>Przykłady</th>\n",
       "    </tr>\n",
       "  </thead>\n",
       "  <tbody>\n",
       "    <tr>\n",
       "      <th>0</th>\n",
       "      <td>[20]</td>\n",
       "    </tr>\n",
       "    <tr>\n",
       "      <th>1</th>\n",
       "      <td>[30]</td>\n",
       "    </tr>\n",
       "  </tbody>\n",
       "</table>\n",
       "</div>"
      ],
      "text/plain": [
       "  Przykłady\n",
       "0      [20]\n",
       "1      [30]"
      ]
     },
     "execution_count": 255,
     "metadata": {},
     "output_type": "execute_result"
    }
   ],
   "source": [
    "regex = '(?<!\\ w\\ )\\d+(?!\\ opak\\ )'\n",
    "\n",
    "pd.DataFrame(p6['Przykłady'].str.findall(regex))"
   ]
  },
  {
   "cell_type": "markdown",
   "id": "1cdb4a3f",
   "metadata": {},
   "source": [
    "### Extra"
   ]
  },
  {
   "cell_type": "markdown",
   "id": "6bb5ab5b",
   "metadata": {},
   "source": [
    "> (?:bc) &emsp; grupa nieprzechwytująca - nie tworzy grupy dla znaków bc"
   ]
  },
  {
   "cell_type": "code",
   "execution_count": 259,
   "id": "c0596b24",
   "metadata": {},
   "outputs": [
    {
     "data": {
      "text/plain": [
       "[('22', '030')]"
      ]
     },
     "execution_count": 259,
     "metadata": {},
     "output_type": "execute_result"
    }
   ],
   "source": [
    "re.findall('(\\d{2})(?:\\-)(\\d{3})', '22-030')"
   ]
  },
  {
   "cell_type": "code",
   "execution_count": 260,
   "id": "ee6a3ae1",
   "metadata": {},
   "outputs": [
    {
     "data": {
      "text/plain": [
       "[('22', '-', '030')]"
      ]
     },
     "execution_count": 260,
     "metadata": {},
     "output_type": "execute_result"
    }
   ],
   "source": [
    "re.findall('(\\d{2})(\\-)(\\d{3})', '22-030')"
   ]
  },
  {
   "cell_type": "markdown",
   "id": "71ba84ae",
   "metadata": {},
   "source": [
    "### Flagi"
   ]
  },
  {
   "cell_type": "code",
   "execution_count": 262,
   "id": "97491f0b",
   "metadata": {},
   "outputs": [
    {
     "data": {
      "text/plain": [
       "['paracetamol']"
      ]
     },
     "execution_count": 262,
     "metadata": {},
     "output_type": "execute_result"
    }
   ],
   "source": [
    "re.findall('paracetamol', 'Paracetamol paracetamol')"
   ]
  },
  {
   "cell_type": "code",
   "execution_count": 268,
   "id": "4a15c6d8",
   "metadata": {},
   "outputs": [
    {
     "data": {
      "text/plain": [
       "['Paracetamol', 'paracetamol']"
      ]
     },
     "execution_count": 268,
     "metadata": {},
     "output_type": "execute_result"
    }
   ],
   "source": [
    "re.findall('paracetamol', 'Paracetamol paracetamol', re.I)"
   ]
  },
  {
   "cell_type": "markdown",
   "id": "8167019b",
   "metadata": {},
   "source": [
    "### Granice"
   ]
  },
  {
   "cell_type": "code",
   "execution_count": 291,
   "id": "bd38a02d",
   "metadata": {},
   "outputs": [
    {
     "data": {
      "text/plain": [
       "['fraza', 'fraza']"
      ]
     },
     "execution_count": 291,
     "metadata": {},
     "output_type": "execute_result"
    }
   ],
   "source": [
    "re.findall(r'fraza\\b', 'fraza para parafraza')"
   ]
  },
  {
   "cell_type": "code",
   "execution_count": null,
   "id": "eebf5178",
   "metadata": {},
   "outputs": [],
   "source": []
  }
 ],
 "metadata": {
  "kernelspec": {
   "display_name": "Python 3 (ipykernel)",
   "language": "python",
   "name": "python3"
  },
  "language_info": {
   "codemirror_mode": {
    "name": "ipython",
    "version": 3
   },
   "file_extension": ".py",
   "mimetype": "text/x-python",
   "name": "python",
   "nbconvert_exporter": "python",
   "pygments_lexer": "ipython3",
   "version": "3.10.6"
  }
 },
 "nbformat": 4,
 "nbformat_minor": 5
}
